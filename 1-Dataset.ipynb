{
 "cells": [
  {
   "cell_type": "code",
   "execution_count": 30,
   "metadata": {},
   "outputs": [],
   "source": [
    "from github import Github, Auth\n",
    "from dotenv import dotenv_values\n",
    "from tqdm import tqdm\n",
    "import pandas as pd\n",
    "from itertools import chain, map, filterfalse\n",
    "\n",
    "config = dotenv_values(\".env\")\n",
    "\n",
    "g = Github(auth=Auth.Token(config['GITHUB_ACCESS_TOKEN']))\n"
   ]
  },
  {
   "cell_type": "code",
   "execution_count": 31,
   "metadata": {},
   "outputs": [],
   "source": [
    "label_map = {\n",
    "\t\"facebook/react\": {\n",
    "\t\t\"Type: Bug\": \"bug\",\n",
    "\t\t\"Type: Feature Request\": \"feature\",\n",
    "\t\t\"Type: Question\": \"question\",\n",
    "\t},\n",
    "}\n"
   ]
  },
  {
   "cell_type": "code",
   "execution_count": 34,
   "metadata": {},
   "outputs": [
    {
     "data": {
      "text/html": [
       "<div>\n",
       "<style scoped>\n",
       "    .dataframe tbody tr th:only-of-type {\n",
       "        vertical-align: middle;\n",
       "    }\n",
       "\n",
       "    .dataframe tbody tr th {\n",
       "        vertical-align: top;\n",
       "    }\n",
       "\n",
       "    .dataframe thead th {\n",
       "        text-align: right;\n",
       "    }\n",
       "</style>\n",
       "<table border=\"1\" class=\"dataframe\">\n",
       "  <thead>\n",
       "    <tr style=\"text-align: right;\">\n",
       "      <th></th>\n",
       "      <th>repo</th>\n",
       "      <th>title</th>\n",
       "      <th>body</th>\n",
       "    </tr>\n",
       "    <tr>\n",
       "      <th>label</th>\n",
       "      <th></th>\n",
       "      <th></th>\n",
       "      <th></th>\n",
       "    </tr>\n",
       "  </thead>\n",
       "  <tbody>\n",
       "    <tr>\n",
       "      <th>bug</th>\n",
       "      <td>974</td>\n",
       "      <td>974</td>\n",
       "      <td>973</td>\n",
       "    </tr>\n",
       "    <tr>\n",
       "      <th>feature</th>\n",
       "      <td>277</td>\n",
       "      <td>277</td>\n",
       "      <td>277</td>\n",
       "    </tr>\n",
       "    <tr>\n",
       "      <th>question</th>\n",
       "      <td>325</td>\n",
       "      <td>325</td>\n",
       "      <td>325</td>\n",
       "    </tr>\n",
       "  </tbody>\n",
       "</table>\n",
       "</div>"
      ],
      "text/plain": [
       "          repo  title  body\n",
       "label                      \n",
       "bug        974    974   973\n",
       "feature    277    277   277\n",
       "question   325    325   325"
      ]
     },
     "execution_count": 34,
     "metadata": {},
     "output_type": "execute_result"
    }
   ],
   "source": [
    "\n",
    "def issues_by_repo(repo_full_name: str):\n",
    "\trepo_labels = set(label_map[repo_full_name].keys())\n",
    "\trepo = g.get_repo(repo_full_name)\n",
    "\tfor label in repo_labels:\n",
    "\t\tfor issue in repo.get_issues(state=\"closed\", labels=[label]):\n",
    "\t\t\tissue_labels = set([label.name for label in issue.labels])\n",
    "\t\t\tmatching_labels = repo_labels.intersection(issue_labels)\n",
    "\t\t\tif len(matching_labels) != 1:\n",
    "\t\t\t\tcontinue\n",
    "\t\t\tstandard_label = label_map[repo_full_name][matching_labels.pop()]\n",
    "\t\t\tyield [repo_full_name, standard_label, issue.title, issue.body]\n",
    "\n",
    "pd.DataFrame(data=tqdm(issues_by_repo(\"facebook/react\")), columns=[\"repo\", \"label\", \"title\", \"body\"]).groupby(\"label\").count()"
   ]
  }
 ],
 "metadata": {
  "kernelspec": {
   "display_name": "Python 3",
   "language": "python",
   "name": "python3"
  },
  "language_info": {
   "codemirror_mode": {
    "name": "ipython",
    "version": 3
   },
   "file_extension": ".py",
   "mimetype": "text/x-python",
   "name": "python",
   "nbconvert_exporter": "python",
   "pygments_lexer": "ipython3",
   "version": "3.10.13"
  },
  "orig_nbformat": 4
 },
 "nbformat": 4,
 "nbformat_minor": 2
}
