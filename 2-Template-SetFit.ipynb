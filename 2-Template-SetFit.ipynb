{
 "cells": [
  {
   "cell_type": "code",
   "execution_count": 12,
   "metadata": {},
   "outputs": [
    {
     "name": "stderr",
     "output_type": "stream",
     "text": [
      "huggingface/tokenizers: The current process just got forked, after parallelism has already been used. Disabling parallelism to avoid deadlocks...\n",
      "To disable this warning, you can either:\n",
      "\t- Avoid using `tokenizers` before the fork if possible\n",
      "\t- Explicitly set the environment variable TOKENIZERS_PARALLELISM=(true | false)\n"
     ]
    },
    {
     "name": "stdout",
     "output_type": "stream",
     "text": [
      "Requirement already satisfied: pandas in /usr/local/python/3.10.13/lib/python3.10/site-packages (2.1.1)\n",
      "Requirement already satisfied: sentence-transformers in /usr/local/python/3.10.13/lib/python3.10/site-packages (2.2.2)\n",
      "Requirement already satisfied: setfit in /usr/local/python/3.10.13/lib/python3.10/site-packages (0.7.0)\n",
      "Requirement already satisfied: scikit-learn in /usr/local/python/3.10.13/lib/python3.10/site-packages (1.3.1)\n",
      "Requirement already satisfied: datasets in /usr/local/python/3.10.13/lib/python3.10/site-packages (2.14.5)\n",
      "Requirement already satisfied: numpy>=1.22.4 in /usr/local/python/3.10.13/lib/python3.10/site-packages (from pandas) (1.26.0)\n",
      "Requirement already satisfied: python-dateutil>=2.8.2 in /home/vscode/.local/lib/python3.10/site-packages (from pandas) (2.8.2)\n",
      "Requirement already satisfied: pytz>=2020.1 in /usr/local/python/3.10.13/lib/python3.10/site-packages (from pandas) (2023.3.post1)\n",
      "Requirement already satisfied: tzdata>=2022.1 in /usr/local/python/3.10.13/lib/python3.10/site-packages (from pandas) (2023.3)\n",
      "Requirement already satisfied: transformers<5.0.0,>=4.6.0 in /usr/local/python/3.10.13/lib/python3.10/site-packages (from sentence-transformers) (4.34.0)\n",
      "Requirement already satisfied: tqdm in /usr/local/python/3.10.13/lib/python3.10/site-packages (from sentence-transformers) (4.66.1)\n",
      "Requirement already satisfied: torch>=1.6.0 in /usr/local/python/3.10.13/lib/python3.10/site-packages (from sentence-transformers) (2.1.0)\n",
      "Requirement already satisfied: torchvision in /usr/local/python/3.10.13/lib/python3.10/site-packages (from sentence-transformers) (0.16.0)\n",
      "Requirement already satisfied: scipy in /usr/local/python/3.10.13/lib/python3.10/site-packages (from sentence-transformers) (1.11.3)\n",
      "Requirement already satisfied: nltk in /usr/local/python/3.10.13/lib/python3.10/site-packages (from sentence-transformers) (3.8.1)\n",
      "Requirement already satisfied: sentencepiece in /usr/local/python/3.10.13/lib/python3.10/site-packages (from sentence-transformers) (0.1.99)\n",
      "Requirement already satisfied: huggingface-hub>=0.4.0 in /usr/local/python/3.10.13/lib/python3.10/site-packages (from sentence-transformers) (0.16.4)\n",
      "Requirement already satisfied: evaluate>=0.3.0 in /usr/local/python/3.10.13/lib/python3.10/site-packages (from setfit) (0.4.0)\n",
      "Requirement already satisfied: joblib>=1.1.1 in /usr/local/python/3.10.13/lib/python3.10/site-packages (from scikit-learn) (1.3.2)\n",
      "Requirement already satisfied: threadpoolctl>=2.0.0 in /usr/local/python/3.10.13/lib/python3.10/site-packages (from scikit-learn) (3.2.0)\n",
      "Requirement already satisfied: pyarrow>=8.0.0 in /usr/local/python/3.10.13/lib/python3.10/site-packages (from datasets) (13.0.0)\n",
      "Requirement already satisfied: dill<0.3.8,>=0.3.0 in /usr/local/python/3.10.13/lib/python3.10/site-packages (from datasets) (0.3.7)\n",
      "Requirement already satisfied: requests>=2.19.0 in /home/vscode/.local/lib/python3.10/site-packages (from datasets) (2.31.0)\n",
      "Requirement already satisfied: xxhash in /usr/local/python/3.10.13/lib/python3.10/site-packages (from datasets) (3.4.1)\n",
      "Requirement already satisfied: multiprocess in /usr/local/python/3.10.13/lib/python3.10/site-packages (from datasets) (0.70.15)\n",
      "Requirement already satisfied: fsspec[http]<2023.9.0,>=2023.1.0 in /usr/local/python/3.10.13/lib/python3.10/site-packages (from datasets) (2023.6.0)\n",
      "Requirement already satisfied: aiohttp in /usr/local/python/3.10.13/lib/python3.10/site-packages (from datasets) (3.8.5)\n",
      "Requirement already satisfied: packaging in /home/vscode/.local/lib/python3.10/site-packages (from datasets) (23.1)\n",
      "Requirement already satisfied: pyyaml>=5.1 in /home/vscode/.local/lib/python3.10/site-packages (from datasets) (6.0.1)\n",
      "Requirement already satisfied: responses<0.19 in /usr/local/python/3.10.13/lib/python3.10/site-packages (from evaluate>=0.3.0->setfit) (0.18.0)\n",
      "Requirement already satisfied: attrs>=17.3.0 in /home/vscode/.local/lib/python3.10/site-packages (from aiohttp->datasets) (23.1.0)\n",
      "Requirement already satisfied: charset-normalizer<4.0,>=2.0 in /home/vscode/.local/lib/python3.10/site-packages (from aiohttp->datasets) (3.2.0)\n",
      "Requirement already satisfied: multidict<7.0,>=4.5 in /usr/local/python/3.10.13/lib/python3.10/site-packages (from aiohttp->datasets) (6.0.4)\n",
      "Requirement already satisfied: async-timeout<5.0,>=4.0.0a3 in /usr/local/python/3.10.13/lib/python3.10/site-packages (from aiohttp->datasets) (4.0.3)\n",
      "Requirement already satisfied: yarl<2.0,>=1.0 in /usr/local/python/3.10.13/lib/python3.10/site-packages (from aiohttp->datasets) (1.9.2)\n",
      "Requirement already satisfied: frozenlist>=1.1.1 in /usr/local/python/3.10.13/lib/python3.10/site-packages (from aiohttp->datasets) (1.4.0)\n",
      "Requirement already satisfied: aiosignal>=1.1.2 in /usr/local/python/3.10.13/lib/python3.10/site-packages (from aiohttp->datasets) (1.3.1)\n",
      "Requirement already satisfied: filelock in /usr/local/python/3.10.13/lib/python3.10/site-packages (from huggingface-hub>=0.4.0->sentence-transformers) (3.12.4)\n",
      "Requirement already satisfied: typing-extensions>=3.7.4.3 in /home/vscode/.local/lib/python3.10/site-packages (from huggingface-hub>=0.4.0->sentence-transformers) (4.8.0)\n",
      "Requirement already satisfied: six>=1.5 in /home/vscode/.local/lib/python3.10/site-packages (from python-dateutil>=2.8.2->pandas) (1.16.0)\n",
      "Requirement already satisfied: idna<4,>=2.5 in /home/vscode/.local/lib/python3.10/site-packages (from requests>=2.19.0->datasets) (3.4)\n",
      "Requirement already satisfied: urllib3<3,>=1.21.1 in /home/vscode/.local/lib/python3.10/site-packages (from requests>=2.19.0->datasets) (2.0.5)\n",
      "Requirement already satisfied: certifi>=2017.4.17 in /home/vscode/.local/lib/python3.10/site-packages (from requests>=2.19.0->datasets) (2023.7.22)\n",
      "Requirement already satisfied: sympy in /usr/local/python/3.10.13/lib/python3.10/site-packages (from torch>=1.6.0->sentence-transformers) (1.12)\n",
      "Requirement already satisfied: networkx in /usr/local/python/3.10.13/lib/python3.10/site-packages (from torch>=1.6.0->sentence-transformers) (3.1)\n",
      "Requirement already satisfied: jinja2 in /home/vscode/.local/lib/python3.10/site-packages (from torch>=1.6.0->sentence-transformers) (3.1.2)\n",
      "Requirement already satisfied: nvidia-cuda-nvrtc-cu12==12.1.105 in /usr/local/python/3.10.13/lib/python3.10/site-packages (from torch>=1.6.0->sentence-transformers) (12.1.105)\n",
      "Requirement already satisfied: nvidia-cuda-runtime-cu12==12.1.105 in /usr/local/python/3.10.13/lib/python3.10/site-packages (from torch>=1.6.0->sentence-transformers) (12.1.105)\n",
      "Requirement already satisfied: nvidia-cuda-cupti-cu12==12.1.105 in /usr/local/python/3.10.13/lib/python3.10/site-packages (from torch>=1.6.0->sentence-transformers) (12.1.105)\n",
      "Requirement already satisfied: nvidia-cudnn-cu12==8.9.2.26 in /usr/local/python/3.10.13/lib/python3.10/site-packages (from torch>=1.6.0->sentence-transformers) (8.9.2.26)\n",
      "Requirement already satisfied: nvidia-cublas-cu12==12.1.3.1 in /usr/local/python/3.10.13/lib/python3.10/site-packages (from torch>=1.6.0->sentence-transformers) (12.1.3.1)\n",
      "Requirement already satisfied: nvidia-cufft-cu12==11.0.2.54 in /usr/local/python/3.10.13/lib/python3.10/site-packages (from torch>=1.6.0->sentence-transformers) (11.0.2.54)\n",
      "Requirement already satisfied: nvidia-curand-cu12==10.3.2.106 in /usr/local/python/3.10.13/lib/python3.10/site-packages (from torch>=1.6.0->sentence-transformers) (10.3.2.106)\n",
      "Requirement already satisfied: nvidia-cusolver-cu12==11.4.5.107 in /usr/local/python/3.10.13/lib/python3.10/site-packages (from torch>=1.6.0->sentence-transformers) (11.4.5.107)\n",
      "Requirement already satisfied: nvidia-cusparse-cu12==12.1.0.106 in /usr/local/python/3.10.13/lib/python3.10/site-packages (from torch>=1.6.0->sentence-transformers) (12.1.0.106)\n",
      "Requirement already satisfied: nvidia-nccl-cu12==2.18.1 in /usr/local/python/3.10.13/lib/python3.10/site-packages (from torch>=1.6.0->sentence-transformers) (2.18.1)\n",
      "Requirement already satisfied: nvidia-nvtx-cu12==12.1.105 in /usr/local/python/3.10.13/lib/python3.10/site-packages (from torch>=1.6.0->sentence-transformers) (12.1.105)\n",
      "Requirement already satisfied: triton==2.1.0 in /usr/local/python/3.10.13/lib/python3.10/site-packages (from torch>=1.6.0->sentence-transformers) (2.1.0)\n",
      "Requirement already satisfied: nvidia-nvjitlink-cu12 in /usr/local/python/3.10.13/lib/python3.10/site-packages (from nvidia-cusolver-cu12==11.4.5.107->torch>=1.6.0->sentence-transformers) (12.2.140)\n",
      "Requirement already satisfied: regex!=2019.12.17 in /usr/local/python/3.10.13/lib/python3.10/site-packages (from transformers<5.0.0,>=4.6.0->sentence-transformers) (2023.10.3)\n",
      "Requirement already satisfied: tokenizers<0.15,>=0.14 in /usr/local/python/3.10.13/lib/python3.10/site-packages (from transformers<5.0.0,>=4.6.0->sentence-transformers) (0.14.0)\n",
      "Requirement already satisfied: safetensors>=0.3.1 in /usr/local/python/3.10.13/lib/python3.10/site-packages (from transformers<5.0.0,>=4.6.0->sentence-transformers) (0.3.3)\n",
      "Requirement already satisfied: click in /usr/local/python/3.10.13/lib/python3.10/site-packages (from nltk->sentence-transformers) (8.1.7)\n",
      "Requirement already satisfied: pillow!=8.3.*,>=5.3.0 in /usr/local/python/3.10.13/lib/python3.10/site-packages (from torchvision->sentence-transformers) (10.0.1)\n",
      "Requirement already satisfied: MarkupSafe>=2.0 in /home/vscode/.local/lib/python3.10/site-packages (from jinja2->torch>=1.6.0->sentence-transformers) (2.1.3)\n",
      "Requirement already satisfied: mpmath>=0.19 in /usr/local/python/3.10.13/lib/python3.10/site-packages (from sympy->torch>=1.6.0->sentence-transformers) (1.3.0)\n",
      "Note: you may need to restart the kernel to use updated packages.\n"
     ]
    }
   ],
   "source": [
    "%pip install pandas sentence-transformers setfit scikit-learn datasets"
   ]
  },
  {
   "cell_type": "code",
   "execution_count": 13,
   "metadata": {},
   "outputs": [],
   "source": [
    "import pandas as pd\n",
    "import json\n",
    "import os\n",
    "from setfit import SetFitModel, SetFitTrainer\n",
    "from sentence_transformers.losses import CosineSimilarityLoss\n",
    "from datasets import Dataset\n",
    "from sklearn.metrics import classification_report\n",
    "from collections import defaultdict"
   ]
  },
  {
   "cell_type": "code",
   "execution_count": 14,
   "metadata": {},
   "outputs": [],
   "source": [
    "BASE_MODEL = \"all-mpnet-base-v2\"\n",
    "RANDOM_SEED = 42\n",
    "OUTPUT_PATH = 'output'"
   ]
  },
  {
   "cell_type": "code",
   "execution_count": 15,
   "metadata": {},
   "outputs": [],
   "source": [
    "train_set = pd.read_csv(\"data/issues_train.csv\")\n",
    "test_set = pd.read_csv(\"data/issues_test.csv\")"
   ]
  },
  {
   "cell_type": "code",
   "execution_count": 16,
   "metadata": {},
   "outputs": [
    {
     "data": {
      "text/html": [
       "<div>\n",
       "<style scoped>\n",
       "    .dataframe tbody tr th:only-of-type {\n",
       "        vertical-align: middle;\n",
       "    }\n",
       "\n",
       "    .dataframe tbody tr th {\n",
       "        vertical-align: top;\n",
       "    }\n",
       "\n",
       "    .dataframe thead th {\n",
       "        text-align: right;\n",
       "    }\n",
       "</style>\n",
       "<table border=\"1\" class=\"dataframe\">\n",
       "  <thead>\n",
       "    <tr style=\"text-align: right;\">\n",
       "      <th>label</th>\n",
       "      <th>bug</th>\n",
       "      <th>feature</th>\n",
       "      <th>question</th>\n",
       "    </tr>\n",
       "    <tr>\n",
       "      <th>repo</th>\n",
       "      <th></th>\n",
       "      <th></th>\n",
       "      <th></th>\n",
       "    </tr>\n",
       "  </thead>\n",
       "  <tbody>\n",
       "    <tr>\n",
       "      <th>bitcoin/bitcoin</th>\n",
       "      <td>100</td>\n",
       "      <td>100</td>\n",
       "      <td>100</td>\n",
       "    </tr>\n",
       "    <tr>\n",
       "      <th>facebook/react</th>\n",
       "      <td>100</td>\n",
       "      <td>100</td>\n",
       "      <td>100</td>\n",
       "    </tr>\n",
       "    <tr>\n",
       "      <th>microsoft/vscode</th>\n",
       "      <td>100</td>\n",
       "      <td>100</td>\n",
       "      <td>100</td>\n",
       "    </tr>\n",
       "    <tr>\n",
       "      <th>opencv/opencv</th>\n",
       "      <td>100</td>\n",
       "      <td>100</td>\n",
       "      <td>100</td>\n",
       "    </tr>\n",
       "    <tr>\n",
       "      <th>tensorflow/tensorflow</th>\n",
       "      <td>100</td>\n",
       "      <td>100</td>\n",
       "      <td>100</td>\n",
       "    </tr>\n",
       "  </tbody>\n",
       "</table>\n",
       "</div>"
      ],
      "text/plain": [
       "label                  bug  feature  question\n",
       "repo                                         \n",
       "bitcoin/bitcoin        100      100       100\n",
       "facebook/react         100      100       100\n",
       "microsoft/vscode       100      100       100\n",
       "opencv/opencv          100      100       100\n",
       "tensorflow/tensorflow  100      100       100"
      ]
     },
     "execution_count": 16,
     "metadata": {},
     "output_type": "execute_result"
    }
   ],
   "source": [
    "train_set.groupby([\"repo\", \"label\"]).size().unstack(fill_value=0)"
   ]
  },
  {
   "cell_type": "code",
   "execution_count": 17,
   "metadata": {},
   "outputs": [],
   "source": [
    "def process_dataset(dataset):\n",
    "    dataset['text'] = dataset['title'] + \" \" + dataset['body']\n",
    "    dataset = dataset[['text', 'label', 'repo']]\n",
    "    return dataset"
   ]
  },
  {
   "cell_type": "code",
   "execution_count": 18,
   "metadata": {},
   "outputs": [],
   "source": [
    "train_set = process_dataset(train_set)\n",
    "test_set = process_dataset(test_set)"
   ]
  },
  {
   "cell_type": "code",
   "execution_count": 19,
   "metadata": {},
   "outputs": [
    {
     "name": "stderr",
     "output_type": "stream",
     "text": [
      "Casting to class labels: 100%|██████████| 300/300 [00:00<00:00, 60219.73 examples/s]\n",
      "Casting to class labels: 100%|██████████| 300/300 [00:00<00:00, 92209.53 examples/s]\n",
      "Casting to class labels: 100%|██████████| 300/300 [00:00<00:00, 112588.69 examples/s]\n",
      "Casting to class labels: 100%|██████████| 300/300 [00:00<00:00, 97716.18 examples/s]\n",
      "Casting to class labels: 100%|██████████| 300/300 [00:00<00:00, 67295.50 examples/s]\n",
      "Casting to class labels: 100%|██████████| 300/300 [00:00<00:00, 98681.77 examples/s]\n",
      "Casting to class labels: 100%|██████████| 300/300 [00:00<00:00, 89082.56 examples/s]\n",
      "Casting to class labels: 100%|██████████| 300/300 [00:00<00:00, 109226.67 examples/s]\n",
      "Casting to class labels: 100%|██████████| 300/300 [00:00<00:00, 96665.22 examples/s]\n",
      "Casting to class labels: 100%|██████████| 300/300 [00:00<00:00, 99430.36 examples/s]\n"
     ]
    }
   ],
   "source": [
    "group_by_repo = lambda dataset: {\n",
    "    repo: Dataset.from_pandas(dataset[dataset[\"repo\"] == repo]).class_encode_column(\"label\")\n",
    "    for repo in dataset[\"repo\"].unique()\n",
    "}\n",
    "\n",
    "train_sets = group_by_repo(train_set)\n",
    "test_sets = group_by_repo(test_set)"
   ]
  },
  {
   "cell_type": "code",
   "execution_count": 20,
   "metadata": {},
   "outputs": [],
   "source": [
    "datasets = {\n",
    "    repo: {'train': train_sets[repo], 'test': test_sets[repo]} for repo in train_sets.keys()\n",
    "}"
   ]
  },
  {
   "cell_type": "code",
   "execution_count": 21,
   "metadata": {},
   "outputs": [
    {
     "name": "stderr",
     "output_type": "stream",
     "text": [
      "config.json not found in HuggingFace Hub.\n"
     ]
    },
    {
     "name": "stderr",
     "output_type": "stream",
     "text": [
      "model_head.pkl not found on HuggingFace Hub, initialising classification head with random weights. You should TRAIN this model on a downstream task to use it for predictions and inference.\n",
      "Generating Training Pairs: 100%|██████████| 20/20 [00:00<00:00, 43.69it/s]\n",
      "***** Running training *****\n",
      "  Num examples = 12000\n",
      "  Num epochs = 1\n",
      "  Total optimization steps = 750\n",
      "  Total train batch size = 16\n",
      "Iteration: 100%|██████████| 750/750 [06:37<00:00,  1.89it/s]\n",
      "Epoch: 100%|██████████| 1/1 [06:37<00:00, 397.83s/it]\n",
      "config.json not found in HuggingFace Hub.\n",
      "model_head.pkl not found on HuggingFace Hub, initialising classification head with random weights. You should TRAIN this model on a downstream task to use it for predictions and inference.\n",
      "Generating Training Pairs: 100%|██████████| 20/20 [00:01<00:00, 11.46it/s]\n",
      "***** Running training *****\n",
      "  Num examples = 12000\n",
      "  Num epochs = 1\n",
      "  Total optimization steps = 750\n",
      "  Total train batch size = 16\n",
      "Iteration: 100%|██████████| 750/750 [06:44<00:00,  1.85it/s]\n",
      "Epoch: 100%|██████████| 1/1 [06:44<00:00, 404.64s/it]\n",
      "config.json not found in HuggingFace Hub.\n",
      "model_head.pkl not found on HuggingFace Hub, initialising classification head with random weights. You should TRAIN this model on a downstream task to use it for predictions and inference.\n",
      "Generating Training Pairs: 100%|██████████| 20/20 [00:00<00:00, 21.57it/s]\n",
      "***** Running training *****\n",
      "  Num examples = 12000\n",
      "  Num epochs = 1\n",
      "  Total optimization steps = 750\n",
      "  Total train batch size = 16\n",
      "Iteration: 100%|██████████| 750/750 [06:42<00:00,  1.86it/s]\n",
      "Epoch: 100%|██████████| 1/1 [06:42<00:00, 402.45s/it]\n",
      "config.json not found in HuggingFace Hub.\n",
      "model_head.pkl not found on HuggingFace Hub, initialising classification head with random weights. You should TRAIN this model on a downstream task to use it for predictions and inference.\n",
      "Generating Training Pairs: 100%|██████████| 20/20 [00:08<00:00,  2.44it/s]\n",
      "***** Running training *****\n",
      "  Num examples = 12000\n",
      "  Num epochs = 1\n",
      "  Total optimization steps = 750\n",
      "  Total train batch size = 16\n",
      "Iteration:   0%|          | 2/750 [00:01<08:48,  1.42it/s]\n",
      "Epoch:   0%|          | 0/1 [00:01<?, ?it/s]\n"
     ]
    },
    {
     "ename": "KeyboardInterrupt",
     "evalue": "",
     "output_type": "error",
     "traceback": [
      "\u001b[0;31m---------------------------------------------------------------------------\u001b[0m",
      "\u001b[0;31mKeyboardInterrupt\u001b[0m                         Traceback (most recent call last)",
      "\u001b[1;32m/workspaces/issue-report-classification/2-Template-SetFit.ipynb Cell 10\u001b[0m line \u001b[0;36m1\n\u001b[1;32m      <a href='vscode-notebook-cell://dev-container%2B7b22686f737450617468223a222f686f6d652f72616661656c6b616c6c69732f776f726b73706163652f6e6c627365323032342f69737375652d7265706f72742d636c617373696669636174696f6e222c226c6f63616c446f636b6572223a66616c73652c2273657474696e6773223a7b22686f7374223a227373683a2f2f72616661656c6b616c6c69732d7365727665722e667269747a2e626f78227d2c22636f6e66696746696c65223a7b22246d6964223a312c2270617468223a222f686f6d652f72616661656c6b616c6c69732f776f726b73706163652f6e6c627365323032342f69737375652d7265706f72742d636c617373696669636174696f6e2f2e646576636f6e7461696e65722e6a736f6e222c22736368656d65223a227673636f64652d66696c65486f7374227d7d/workspaces/issue-report-classification/2-Template-SetFit.ipynb#X12sdnNjb2RlLXJlbW90ZQ%3D%3D?line=3'>4</a>\u001b[0m model \u001b[39m=\u001b[39m SetFitModel\u001b[39m.\u001b[39mfrom_pretrained(BASE_MODEL)\n\u001b[1;32m      <a href='vscode-notebook-cell://dev-container%2B7b22686f737450617468223a222f686f6d652f72616661656c6b616c6c69732f776f726b73706163652f6e6c627365323032342f69737375652d7265706f72742d636c617373696669636174696f6e222c226c6f63616c446f636b6572223a66616c73652c2273657474696e6773223a7b22686f7374223a227373683a2f2f72616661656c6b616c6c69732d7365727665722e667269747a2e626f78227d2c22636f6e66696746696c65223a7b22246d6964223a312c2270617468223a222f686f6d652f72616661656c6b616c6c69732f776f726b73706163652f6e6c627365323032342f69737375652d7265706f72742d636c617373696669636174696f6e2f2e646576636f6e7461696e65722e6a736f6e222c22736368656d65223a227673636f64652d66696c65486f7374227d7d/workspaces/issue-report-classification/2-Template-SetFit.ipynb#X12sdnNjb2RlLXJlbW90ZQ%3D%3D?line=5'>6</a>\u001b[0m trainer \u001b[39m=\u001b[39m SetFitTrainer(\n\u001b[1;32m      <a href='vscode-notebook-cell://dev-container%2B7b22686f737450617468223a222f686f6d652f72616661656c6b616c6c69732f776f726b73706163652f6e6c627365323032342f69737375652d7265706f72742d636c617373696669636174696f6e222c226c6f63616c446f636b6572223a66616c73652c2273657474696e6773223a7b22686f7374223a227373683a2f2f72616661656c6b616c6c69732d7365727665722e667269747a2e626f78227d2c22636f6e66696746696c65223a7b22246d6964223a312c2270617468223a222f686f6d652f72616661656c6b616c6c69732f776f726b73706163652f6e6c627365323032342f69737375652d7265706f72742d636c617373696669636174696f6e2f2e646576636f6e7461696e65722e6a736f6e222c22736368656d65223a227673636f64652d66696c65486f7374227d7d/workspaces/issue-report-classification/2-Template-SetFit.ipynb#X12sdnNjb2RlLXJlbW90ZQ%3D%3D?line=6'>7</a>\u001b[0m     model\u001b[39m=\u001b[39mmodel,\n\u001b[1;32m      <a href='vscode-notebook-cell://dev-container%2B7b22686f737450617468223a222f686f6d652f72616661656c6b616c6c69732f776f726b73706163652f6e6c627365323032342f69737375652d7265706f72742d636c617373696669636174696f6e222c226c6f63616c446f636b6572223a66616c73652c2273657474696e6773223a7b22686f7374223a227373683a2f2f72616661656c6b616c6c69732d7365727665722e667269747a2e626f78227d2c22636f6e66696746696c65223a7b22246d6964223a312c2270617468223a222f686f6d652f72616661656c6b616c6c69732f776f726b73706163652f6e6c627365323032342f69737375652d7265706f72742d636c617373696669636174696f6e2f2e646576636f6e7461696e65722e6a736f6e222c22736368656d65223a227673636f64652d66696c65486f7374227d7d/workspaces/issue-report-classification/2-Template-SetFit.ipynb#X12sdnNjb2RlLXJlbW90ZQ%3D%3D?line=7'>8</a>\u001b[0m     train_dataset\u001b[39m=\u001b[39mtrain_set,\n\u001b[0;32m   (...)\u001b[0m\n\u001b[1;32m     <a href='vscode-notebook-cell://dev-container%2B7b22686f737450617468223a222f686f6d652f72616661656c6b616c6c69732f776f726b73706163652f6e6c627365323032342f69737375652d7265706f72742d636c617373696669636174696f6e222c226c6f63616c446f636b6572223a66616c73652c2273657474696e6773223a7b22686f7374223a227373683a2f2f72616661656c6b616c6c69732d7365727665722e667269747a2e626f78227d2c22636f6e66696746696c65223a7b22246d6964223a312c2270617468223a222f686f6d652f72616661656c6b616c6c69732f776f726b73706163652f6e6c627365323032342f69737375652d7265706f72742d636c617373696669636174696f6e2f2e646576636f6e7461696e65722e6a736f6e222c22736368656d65223a227673636f64652d66696c65486f7374227d7d/workspaces/issue-report-classification/2-Template-SetFit.ipynb#X12sdnNjb2RlLXJlbW90ZQ%3D%3D?line=12'>13</a>\u001b[0m     num_iterations\u001b[39m=\u001b[39m\u001b[39m20\u001b[39m,\n\u001b[1;32m     <a href='vscode-notebook-cell://dev-container%2B7b22686f737450617468223a222f686f6d652f72616661656c6b616c6c69732f776f726b73706163652f6e6c627365323032342f69737375652d7265706f72742d636c617373696669636174696f6e222c226c6f63616c446f636b6572223a66616c73652c2273657474696e6773223a7b22686f7374223a227373683a2f2f72616661656c6b616c6c69732d7365727665722e667269747a2e626f78227d2c22636f6e66696746696c65223a7b22246d6964223a312c2270617468223a222f686f6d652f72616661656c6b616c6c69732f776f726b73706163652f6e6c627365323032342f69737375652d7265706f72742d636c617373696669636174696f6e2f2e646576636f6e7461696e65722e6a736f6e222c22736368656d65223a227673636f64652d66696c65486f7374227d7d/workspaces/issue-report-classification/2-Template-SetFit.ipynb#X12sdnNjb2RlLXJlbW90ZQ%3D%3D?line=13'>14</a>\u001b[0m )\n\u001b[0;32m---> <a href='vscode-notebook-cell://dev-container%2B7b22686f737450617468223a222f686f6d652f72616661656c6b616c6c69732f776f726b73706163652f6e6c627365323032342f69737375652d7265706f72742d636c617373696669636174696f6e222c226c6f63616c446f636b6572223a66616c73652c2273657474696e6773223a7b22686f7374223a227373683a2f2f72616661656c6b616c6c69732d7365727665722e667269747a2e626f78227d2c22636f6e66696746696c65223a7b22246d6964223a312c2270617468223a222f686f6d652f72616661656c6b616c6c69732f776f726b73706163652f6e6c627365323032342f69737375652d7265706f72742d636c617373696669636174696f6e2f2e646576636f6e7461696e65722e6a736f6e222c22736368656d65223a227673636f64652d66696c65486f7374227d7d/workspaces/issue-report-classification/2-Template-SetFit.ipynb#X12sdnNjb2RlLXJlbW90ZQ%3D%3D?line=14'>15</a>\u001b[0m trainer\u001b[39m.\u001b[39;49mtrain()\n\u001b[1;32m     <a href='vscode-notebook-cell://dev-container%2B7b22686f737450617468223a222f686f6d652f72616661656c6b616c6c69732f776f726b73706163652f6e6c627365323032342f69737375652d7265706f72742d636c617373696669636174696f6e222c226c6f63616c446f636b6572223a66616c73652c2273657474696e6773223a7b22686f7374223a227373683a2f2f72616661656c6b616c6c69732d7365727665722e667269747a2e626f78227d2c22636f6e66696746696c65223a7b22246d6964223a312c2270617468223a222f686f6d652f72616661656c6b616c6c69732f776f726b73706163652f6e6c627365323032342f69737375652d7265706f72742d636c617373696669636174696f6e2f2e646576636f6e7461696e65722e6a736f6e222c22736368656d65223a227673636f64652d66696c65486f7374227d7d/workspaces/issue-report-classification/2-Template-SetFit.ipynb#X12sdnNjb2RlLXJlbW90ZQ%3D%3D?line=15'>16</a>\u001b[0m y_pred \u001b[39m=\u001b[39m trainer\u001b[39m.\u001b[39mmodel\u001b[39m.\u001b[39mpredict(test_set[\u001b[39m'\u001b[39m\u001b[39mtext\u001b[39m\u001b[39m'\u001b[39m])\n\u001b[1;32m     <a href='vscode-notebook-cell://dev-container%2B7b22686f737450617468223a222f686f6d652f72616661656c6b616c6c69732f776f726b73706163652f6e6c627365323032342f69737375652d7265706f72742d636c617373696669636174696f6e222c226c6f63616c446f636b6572223a66616c73652c2273657474696e6773223a7b22686f7374223a227373683a2f2f72616661656c6b616c6c69732d7365727665722e667269747a2e626f78227d2c22636f6e66696746696c65223a7b22246d6964223a312c2270617468223a222f686f6d652f72616661656c6b616c6c69732f776f726b73706163652f6e6c627365323032342f69737375652d7265706f72742d636c617373696669636174696f6e2f2e646576636f6e7461696e65722e6a736f6e222c22736368656d65223a227673636f64652d66696c65486f7374227d7d/workspaces/issue-report-classification/2-Template-SetFit.ipynb#X12sdnNjb2RlLXJlbW90ZQ%3D%3D?line=16'>17</a>\u001b[0m results[repo][\u001b[39m'\u001b[39m\u001b[39mmetrics\u001b[39m\u001b[39m'\u001b[39m] \u001b[39m=\u001b[39m classification_report(test_set[\u001b[39m'\u001b[39m\u001b[39mlabel\u001b[39m\u001b[39m'\u001b[39m], y_pred, digits\u001b[39m=\u001b[39m\u001b[39m4\u001b[39m, output_dict\u001b[39m=\u001b[39m\u001b[39mTrue\u001b[39;00m)\n",
      "File \u001b[0;32m/usr/local/python/3.10.13/lib/python3.10/site-packages/setfit/trainer.py:395\u001b[0m, in \u001b[0;36mSetFitTrainer.train\u001b[0;34m(self, num_epochs, batch_size, learning_rate, body_learning_rate, l2_weight, max_length, trial, show_progress_bar)\u001b[0m\n\u001b[1;32m    392\u001b[0m     logger\u001b[39m.\u001b[39minfo(\u001b[39mf\u001b[39m\u001b[39m\"\u001b[39m\u001b[39m  Total train batch size = \u001b[39m\u001b[39m{\u001b[39;00mbatch_size\u001b[39m}\u001b[39;00m\u001b[39m\"\u001b[39m)\n\u001b[1;32m    394\u001b[0m     warmup_steps \u001b[39m=\u001b[39m math\u001b[39m.\u001b[39mceil(total_train_steps \u001b[39m*\u001b[39m \u001b[39mself\u001b[39m\u001b[39m.\u001b[39mwarmup_proportion)\n\u001b[0;32m--> 395\u001b[0m     \u001b[39mself\u001b[39;49m\u001b[39m.\u001b[39;49mmodel\u001b[39m.\u001b[39;49mmodel_body\u001b[39m.\u001b[39;49mfit(\n\u001b[1;32m    396\u001b[0m         train_objectives\u001b[39m=\u001b[39;49m[(train_dataloader, train_loss)],\n\u001b[1;32m    397\u001b[0m         epochs\u001b[39m=\u001b[39;49mnum_epochs,\n\u001b[1;32m    398\u001b[0m         optimizer_params\u001b[39m=\u001b[39;49m{\u001b[39m\"\u001b[39;49m\u001b[39mlr\u001b[39;49m\u001b[39m\"\u001b[39;49m: learning_rate},\n\u001b[1;32m    399\u001b[0m         warmup_steps\u001b[39m=\u001b[39;49mwarmup_steps,\n\u001b[1;32m    400\u001b[0m         show_progress_bar\u001b[39m=\u001b[39;49mshow_progress_bar,\n\u001b[1;32m    401\u001b[0m         use_amp\u001b[39m=\u001b[39;49m\u001b[39mself\u001b[39;49m\u001b[39m.\u001b[39;49muse_amp,\n\u001b[1;32m    402\u001b[0m     )\n\u001b[1;32m    404\u001b[0m \u001b[39mif\u001b[39;00m \u001b[39mnot\u001b[39;00m \u001b[39mself\u001b[39m\u001b[39m.\u001b[39mmodel\u001b[39m.\u001b[39mhas_differentiable_head \u001b[39mor\u001b[39;00m \u001b[39mnot\u001b[39;00m \u001b[39mself\u001b[39m\u001b[39m.\u001b[39m_freeze:\n\u001b[1;32m    405\u001b[0m     \u001b[39m# Train the final classifier\u001b[39;00m\n\u001b[1;32m    406\u001b[0m     \u001b[39mself\u001b[39m\u001b[39m.\u001b[39mmodel\u001b[39m.\u001b[39mfit(\n\u001b[1;32m    407\u001b[0m         x_train,\n\u001b[1;32m    408\u001b[0m         y_train,\n\u001b[0;32m   (...)\u001b[0m\n\u001b[1;32m    415\u001b[0m         show_progress_bar\u001b[39m=\u001b[39m\u001b[39mTrue\u001b[39;00m,\n\u001b[1;32m    416\u001b[0m     )\n",
      "File \u001b[0;32m/usr/local/python/3.10.13/lib/python3.10/site-packages/sentence_transformers/SentenceTransformer.py:722\u001b[0m, in \u001b[0;36mSentenceTransformer.fit\u001b[0;34m(self, train_objectives, evaluator, epochs, steps_per_epoch, scheduler, warmup_steps, optimizer_class, optimizer_params, weight_decay, evaluation_steps, output_path, save_best_model, max_grad_norm, use_amp, callback, show_progress_bar, checkpoint_path, checkpoint_save_steps, checkpoint_save_total_limit)\u001b[0m\n\u001b[1;32m    720\u001b[0m \u001b[39melse\u001b[39;00m:\n\u001b[1;32m    721\u001b[0m     loss_value \u001b[39m=\u001b[39m loss_model(features, labels)\n\u001b[0;32m--> 722\u001b[0m     loss_value\u001b[39m.\u001b[39;49mbackward()\n\u001b[1;32m    723\u001b[0m     torch\u001b[39m.\u001b[39mnn\u001b[39m.\u001b[39mutils\u001b[39m.\u001b[39mclip_grad_norm_(loss_model\u001b[39m.\u001b[39mparameters(), max_grad_norm)\n\u001b[1;32m    724\u001b[0m     optimizer\u001b[39m.\u001b[39mstep()\n",
      "File \u001b[0;32m/usr/local/python/3.10.13/lib/python3.10/site-packages/torch/_tensor.py:492\u001b[0m, in \u001b[0;36mTensor.backward\u001b[0;34m(self, gradient, retain_graph, create_graph, inputs)\u001b[0m\n\u001b[1;32m    482\u001b[0m \u001b[39mif\u001b[39;00m has_torch_function_unary(\u001b[39mself\u001b[39m):\n\u001b[1;32m    483\u001b[0m     \u001b[39mreturn\u001b[39;00m handle_torch_function(\n\u001b[1;32m    484\u001b[0m         Tensor\u001b[39m.\u001b[39mbackward,\n\u001b[1;32m    485\u001b[0m         (\u001b[39mself\u001b[39m,),\n\u001b[0;32m   (...)\u001b[0m\n\u001b[1;32m    490\u001b[0m         inputs\u001b[39m=\u001b[39minputs,\n\u001b[1;32m    491\u001b[0m     )\n\u001b[0;32m--> 492\u001b[0m torch\u001b[39m.\u001b[39;49mautograd\u001b[39m.\u001b[39;49mbackward(\n\u001b[1;32m    493\u001b[0m     \u001b[39mself\u001b[39;49m, gradient, retain_graph, create_graph, inputs\u001b[39m=\u001b[39;49minputs\n\u001b[1;32m    494\u001b[0m )\n",
      "File \u001b[0;32m/usr/local/python/3.10.13/lib/python3.10/site-packages/torch/autograd/__init__.py:251\u001b[0m, in \u001b[0;36mbackward\u001b[0;34m(tensors, grad_tensors, retain_graph, create_graph, grad_variables, inputs)\u001b[0m\n\u001b[1;32m    246\u001b[0m     retain_graph \u001b[39m=\u001b[39m create_graph\n\u001b[1;32m    248\u001b[0m \u001b[39m# The reason we repeat the same comment below is that\u001b[39;00m\n\u001b[1;32m    249\u001b[0m \u001b[39m# some Python versions print out the first line of a multi-line function\u001b[39;00m\n\u001b[1;32m    250\u001b[0m \u001b[39m# calls in the traceback and some print out the last line\u001b[39;00m\n\u001b[0;32m--> 251\u001b[0m Variable\u001b[39m.\u001b[39;49m_execution_engine\u001b[39m.\u001b[39;49mrun_backward(  \u001b[39m# Calls into the C++ engine to run the backward pass\u001b[39;49;00m\n\u001b[1;32m    252\u001b[0m     tensors,\n\u001b[1;32m    253\u001b[0m     grad_tensors_,\n\u001b[1;32m    254\u001b[0m     retain_graph,\n\u001b[1;32m    255\u001b[0m     create_graph,\n\u001b[1;32m    256\u001b[0m     inputs,\n\u001b[1;32m    257\u001b[0m     allow_unreachable\u001b[39m=\u001b[39;49m\u001b[39mTrue\u001b[39;49;00m,\n\u001b[1;32m    258\u001b[0m     accumulate_grad\u001b[39m=\u001b[39;49m\u001b[39mTrue\u001b[39;49;00m,\n\u001b[1;32m    259\u001b[0m )\n",
      "\u001b[0;31mKeyboardInterrupt\u001b[0m: "
     ]
    }
   ],
   "source": [
    "results = defaultdict(dict)\n",
    "for repo in datasets.keys():\n",
    "    train_set, test_set = datasets[repo]['train'], datasets[repo]['test']\n",
    "    model = SetFitModel.from_pretrained(BASE_MODEL)\n",
    "\n",
    "    trainer = SetFitTrainer(\n",
    "        model=model,\n",
    "        train_dataset=train_set,\n",
    "        loss_class=CosineSimilarityLoss,\n",
    "        metric=\"accuracy\",\n",
    "        batch_size=16,\n",
    "        num_epochs=1,\n",
    "        num_iterations=20,\n",
    "    )\n",
    "    trainer.train()\n",
    "    y_pred = trainer.model.predict(test_set['text'])\n",
    "    results[repo]['metrics'] = classification_report(test_set['label'], y_pred, digits=4, output_dict=True)\n",
    "    results[repo]['predictions'] = y_pred.tolist()\n",
    "    results['label_mapping'] = {train_set.features[\"label\"].int2str(x): x for x in range(train_set.features[\"label\"].num_classes)}"
   ]
  },
  {
   "cell_type": "code",
   "execution_count": null,
   "metadata": {},
   "outputs": [
    {
     "name": "stdout",
     "output_type": "stream",
     "text": [
      "facebook/react\n",
      "{'0': {'precision': 0.897196261682243, 'recall': 0.96, 'f1-score': 0.927536231884058, 'support': 100.0}, '1': {'precision': 0.839622641509434, 'recall': 0.89, 'f1-score': 0.8640776699029127, 'support': 100.0}, '2': {'precision': 0.8620689655172413, 'recall': 0.75, 'f1-score': 0.8021390374331552, 'support': 100.0}, 'accuracy': 0.8666666666666667, 'macro avg': {'precision': 0.8662959562363062, 'recall': 0.8666666666666667, 'f1-score': 0.8645843130733754, 'support': 300.0}, 'weighted avg': {'precision': 0.8662959562363061, 'recall': 0.8666666666666667, 'f1-score': 0.8645843130733752, 'support': 300.0}}\n",
      "label_mapping\n"
     ]
    },
    {
     "ename": "KeyError",
     "evalue": "'metrics'",
     "output_type": "error",
     "traceback": [
      "\u001b[0;31m---------------------------------------------------------------------------\u001b[0m",
      "\u001b[0;31mKeyError\u001b[0m                                  Traceback (most recent call last)",
      "\u001b[1;32m/workspaces/issue-report-classification/2-Template-SetFit.ipynb Cell 11\u001b[0m line \u001b[0;36m3\n\u001b[1;32m      <a href='vscode-notebook-cell://dev-container%2B7b22686f737450617468223a222f686f6d652f72616661656c6b616c6c69732f776f726b73706163652f6e6c627365323032342f69737375652d7265706f72742d636c617373696669636174696f6e222c226c6f63616c446f636b6572223a66616c73652c2273657474696e6773223a7b22686f7374223a227373683a2f2f72616661656c6b616c6c69732d7365727665722e667269747a2e626f78227d2c22636f6e66696746696c65223a7b22246d6964223a312c2270617468223a222f686f6d652f72616661656c6b616c6c69732f776f726b73706163652f6e6c627365323032342f69737375652d7265706f72742d636c617373696669636174696f6e2f2e646576636f6e7461696e65722e6a736f6e222c22736368656d65223a227673636f64652d66696c65486f7374227d7d/workspaces/issue-report-classification/2-Template-SetFit.ipynb#X13sdnNjb2RlLXJlbW90ZQ%3D%3D?line=0'>1</a>\u001b[0m \u001b[39mfor\u001b[39;00m repo \u001b[39min\u001b[39;00m results\u001b[39m.\u001b[39mkeys():\n\u001b[1;32m      <a href='vscode-notebook-cell://dev-container%2B7b22686f737450617468223a222f686f6d652f72616661656c6b616c6c69732f776f726b73706163652f6e6c627365323032342f69737375652d7265706f72742d636c617373696669636174696f6e222c226c6f63616c446f636b6572223a66616c73652c2273657474696e6773223a7b22686f7374223a227373683a2f2f72616661656c6b616c6c69732d7365727665722e667269747a2e626f78227d2c22636f6e66696746696c65223a7b22246d6964223a312c2270617468223a222f686f6d652f72616661656c6b616c6c69732f776f726b73706163652f6e6c627365323032342f69737375652d7265706f72742d636c617373696669636174696f6e2f2e646576636f6e7461696e65722e6a736f6e222c22736368656d65223a227673636f64652d66696c65486f7374227d7d/workspaces/issue-report-classification/2-Template-SetFit.ipynb#X13sdnNjb2RlLXJlbW90ZQ%3D%3D?line=1'>2</a>\u001b[0m     \u001b[39mprint\u001b[39m(repo)\n\u001b[0;32m----> <a href='vscode-notebook-cell://dev-container%2B7b22686f737450617468223a222f686f6d652f72616661656c6b616c6c69732f776f726b73706163652f6e6c627365323032342f69737375652d7265706f72742d636c617373696669636174696f6e222c226c6f63616c446f636b6572223a66616c73652c2273657474696e6773223a7b22686f7374223a227373683a2f2f72616661656c6b616c6c69732d7365727665722e667269747a2e626f78227d2c22636f6e66696746696c65223a7b22246d6964223a312c2270617468223a222f686f6d652f72616661656c6b616c6c69732f776f726b73706163652f6e6c627365323032342f69737375652d7265706f72742d636c617373696669636174696f6e2f2e646576636f6e7461696e65722e6a736f6e222c22736368656d65223a227673636f64652d66696c65486f7374227d7d/workspaces/issue-report-classification/2-Template-SetFit.ipynb#X13sdnNjb2RlLXJlbW90ZQ%3D%3D?line=2'>3</a>\u001b[0m     \u001b[39mprint\u001b[39m(results[repo][\u001b[39m'\u001b[39;49m\u001b[39mmetrics\u001b[39;49m\u001b[39m'\u001b[39;49m])\n",
      "\u001b[0;31mKeyError\u001b[0m: 'metrics'"
     ]
    }
   ],
   "source": [
    "for repo in results.keys():\n",
    "    print(repo)\n",
    "    print(results[repo]['metrics'])"
   ]
  },
  {
   "cell_type": "code",
   "execution_count": null,
   "metadata": {},
   "outputs": [],
   "source": [
    "f1_scores = [results[repo]['metrics']['macro avg']['f1-score'] for repo in results.keys()]\n",
    "mean_score = sum(f1_scores) / len(f1_scores)\n",
    "\n",
    "print(f\"Mean F1 score: {mean_score}\")"
   ]
  },
  {
   "cell_type": "code",
   "execution_count": null,
   "metadata": {},
   "outputs": [],
   "source": [
    "output_file_name = 'results.json'\n",
    "with open(os.path.join(OUTPUT_PATH, output_file_name), 'w') as fp:\n",
    "    json.dump(results, fp)"
   ]
  }
 ],
 "metadata": {
  "kernelspec": {
   "display_name": "Python 3",
   "language": "python",
   "name": "python3"
  },
  "language_info": {
   "codemirror_mode": {
    "name": "ipython",
    "version": 3
   },
   "file_extension": ".py",
   "mimetype": "text/x-python",
   "name": "python",
   "nbconvert_exporter": "python",
   "pygments_lexer": "ipython3",
   "version": "3.10.13"
  }
 },
 "nbformat": 4,
 "nbformat_minor": 2
}
